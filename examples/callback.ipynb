{
 "cells": [
  {
   "cell_type": "code",
   "execution_count": 8,
   "metadata": {
    "collapsed": false
   },
   "outputs": [
    {
     "data": {
      "text/html": [
       "<style>\n",
       "\n",
       "/*div#maintoolbar, div#header {display: none !important;}\n",
       "*/\n",
       "#notebook-container {\n",
       "font-family: Computer Modern; \n",
       "  width:700px;\n",
       "  padding: 20px;\n",
       "  background-color: #FFF;\n",
       "  min-height: 10;\n",
       "  -webkit-box-shadow: 0px 0px 0px 2px rgba(0, 0, 0, 1);\n",
       "  /* box-shadow: 0px 0px 2px 1px rgba(0, 0, 0, 1); */\n",
       "}\n",
       "\n",
       "body {\n",
       "  background-color: white !important;\n",
       "}\n",
       "\n",
       "@font-face { \n",
       "  font-family: Computer Modern; \n",
       "src:url('http://gabgoh.github.io/cmunorm.ttf');\n",
       "}\n",
       "\n",
       "/* src: url('http://mirrors.ctan.org/\n",
       "fonts/cm-unicode/fonts/otf/cmunss.otf'); */\n",
       "\n",
       "div.cell{\n",
       "  width:600px;\n",
       "  margin-left:auto;\n",
       "  margin-right:auto;\n",
       "}\n",
       "\n",
       "div.output_subarea {\n",
       "    overflow-x: auto;\n",
       "    padding: 0.4em;\n",
       "    -webkit-box-flex: 1;\n",
       "    -moz-box-flex: 1;\n",
       "    box-flex: 1;\n",
       "    flex: 1;\n",
       "    max-width: calc(100%);\n",
       "}\n",
       "\n",
       "h1 { font-family: Computer Modern; }\n",
       "\n",
       ".prompt{ display:None; }\n",
       "\n",
       ".output_png { margin: auto; }\n",
       "\n",
       "hr {\n",
       "    display: block;\n",
       "    height: 1px;\n",
       "    border: 0;\n",
       "    border-top: 1px solid #000;\n",
       "    margin: 1em 0;\n",
       "    padding: 0; \n",
       "}\n",
       "\n",
       "</style>\n"
      ],
      "text/plain": [
       "HTML{ASCIIString}(\"<style>\\n\\n/*div#maintoolbar, div#header {display: none !important;}\\n*/\\n#notebook-container {\\nfont-family: Computer Modern; \\n  width:700px;\\n  padding: 20px;\\n  background-color: #FFF;\\n  min-height: 10;\\n  -webkit-box-shadow: 0px 0px 0px 2px rgba(0, 0, 0, 1);\\n  /* box-shadow: 0px 0px 2px 1px rgba(0, 0, 0, 1); */\\n}\\n\\nbody {\\n  background-color: white !important;\\n}\\n\\n@font-face { \\n  font-family: Computer Modern; \\nsrc:url('http://gabgoh.github.io/cmunorm.ttf');\\n}\\n\\n/* src: url('http://mirrors.ctan.org/\\nfonts/cm-unicode/fonts/otf/cmunss.otf'); */\\n\\ndiv.cell{\\n  width:600px;\\n  margin-left:auto;\\n  margin-right:auto;\\n}\\n\\ndiv.output_subarea {\\n    overflow-x: auto;\\n    padding: 0.4em;\\n    -webkit-box-flex: 1;\\n    -moz-box-flex: 1;\\n    box-flex: 1;\\n    flex: 1;\\n    max-width: calc(100%);\\n}\\n\\nh1 { font-family: Computer Modern; }\\n\\n.prompt{ display:None; }\\n\\n.output_png { margin: auto; }\\n\\nhr {\\n    display: block;\\n    height: 1px;\\n    border: 0;\\n    border-top: 1px solid #000;\\n    margin: 1em 0;\\n    padding: 0; \\n}\\n\\n</style>\\n\")"
      ]
     },
     "execution_count": 8,
     "metadata": {},
     "output_type": "execute_result"
    }
   ],
   "source": [
    "HTML(readall(open(\"style.css\")))"
   ]
  },
  {
   "cell_type": "markdown",
   "metadata": {},
   "source": [
    "# KKT Callbacks with IntPoint\n",
    "\n",
    "The `intpoint` solver can be accelerated when there is structure to be exploited in problem. Here we will consider the simple problem:\n",
    "\n",
    "$$\\mbox{minimize}\\quad\\frac{1}{2}x^{T}Qx-b^{T}x,\\qquad\\mbox{s.t.}\\quad x\\geq0.$$\n",
    "\n",
    "The solver can be called with no special parameters,"
   ]
  },
  {
   "cell_type": "code",
   "execution_count": 2,
   "metadata": {
    "collapsed": false,
    "scrolled": true
   },
   "outputs": [
    {
     "name": "stdout",
     "output_type": "stream",
     "text": [
      "\n",
      " > INTERIOR POINT SOLVER v0.7 (July 2016)\n",
      "\n",
      "   Iter  Mu          prFeas      duFeas      muFeas      refine    \n",
      "      1  1.7952e+00  1.3283e+00  4.1735e+01  1.2551e+00  1\n",
      "      2  4.0811e-01  2.8448e-01  8.9385e+00  3.4530e-01  1\n",
      "      3  1.5700e-01  8.0023e-02  2.5144e+00  2.9434e-01  1\n",
      "      4  4.5733e-02  1.8694e-02  5.8739e-01  1.3231e-01  1\n",
      "      5  1.3577e-02  3.6356e-03  1.1423e-01  6.4463e-02  1\n",
      "      6  1.9794e-03  1.5858e-14  5.9771e-17  1.0041e-02  1\n",
      "      7  2.8059e-04  1.1036e-14  4.8422e-17  1.3830e-03  1\n",
      "      8  2.7077e-05  1.0287e-14  4.7177e-17  1.4751e-04  1\n",
      "      9  2.5619e-06  1.0359e-14  4.9834e-17  1.6370e-05  1\n",
      "     10  1.3271e-07  1.0182e-14  4.5557e-17  1.4900e-06  1\n",
      "\n",
      " > EXIT -- Below Tolerance!\n",
      "\n",
      " 13.895687 seconds (11.95 M allocations: 2.599 GB, 4.59% gc time)\n"
     ]
    }
   ],
   "source": [
    "using IntPoint\n",
    "\n",
    "n = 1000\n",
    "\n",
    "Q = sparse(randn(n,n)); \n",
    "Q = Q'*Q;\n",
    "c = ones(n,1);\n",
    "A = speye(n);\n",
    "b = zeros(n,1);\n",
    "𝐾 = [(\"R\",n)];\n",
    "\n",
    "@time intpoint( Q , c , A , b , 𝐾 , verbose = true);"
   ]
  },
  {
   "cell_type": "markdown",
   "metadata": {},
   "source": [
    "The speed of the solver is reasonable, as the deault solver exploits the sparsity of the constraint matrix. We can do better, however.\n",
    "\n",
    "___\n",
    "\n",
    "## KKT Callbacks\n",
    "The KKT callback requires a function `solve3x3gen` which returns a function solving the KKT system\n",
    "\n",
    "$$\\left(\\begin{array}{ccc}\n",
    "Q & G^{T} & A^{T}\\\\\n",
    "G\\\\\n",
    "A &  & -F^{2}\n",
    "\\end{array}\\right)\n",
    "\\left(\\begin{array}{c}\n",
    "a\\\\\n",
    "c\\\\\n",
    "b\n",
    "\\end{array}\\right) = \\left(\\begin{array}{c}\n",
    "x\\\\\n",
    "z\\\\\n",
    "y\n",
    "\\end{array}\\right)$$\n",
    "\n",
    "In this example, since we have no linear constraints, $G$ is empty, and our KKT system is\n",
    "\n",
    "$$\n",
    "\\left(\\begin{array}{cc}\n",
    "Q & I\\\\\n",
    "I & -F^{-2}\n",
    "\\end{array}\\right)\\left(\\begin{array}{c}\n",
    "a\\\\\n",
    "b\n",
    "\\end{array}\\right)=\\left(\\begin{array}{c}\n",
    "x\\\\\n",
    "y\n",
    "\\end{array}\\right)\n",
    "$$\n",
    "\n",
    "The system can be solved by pivoting on the second block, as follows:\n",
    "\n",
    "$$\n",
    "(Q+F^{-2})\\,a=x+F^{-2}y,\\qquad b=F^{-2}(a-y)\n",
    "$$\n",
    "\n",
    "Because we only have polyhedral constraints, $F^{-2}$ is just a diagonal matrix, thus the first equation is a digonal perturbation to $Q$ which can be solved via a Cholesky Factorization."
   ]
  },
  {
   "cell_type": "code",
   "execution_count": 3,
   "metadata": {
    "collapsed": false
   },
   "outputs": [
    {
     "name": "stdout",
     "output_type": "stream",
     "text": [
      "\n",
      " > INTERIOR POINT SOLVER v0.7 (July 2016)\n",
      "\n",
      "   Iter  Mu          prFeas      duFeas      muFeas      refine    \n",
      "      1  1.7952e+00  1.3283e+00  4.1735e+01  1.2551e+00  1\n",
      "      2  4.0811e-01  2.8448e-01  8.9385e+00  3.4530e-01  1\n",
      "      3  1.5700e-01  8.0023e-02  2.5144e+00  2.9434e-01  1\n",
      "      4  4.5733e-02  1.8694e-02  5.8739e-01  1.3231e-01  1\n",
      "      5  1.3577e-02  3.6356e-03  1.1423e-01  6.4463e-02  1\n",
      "      6  1.9794e-03  1.5195e-14  7.7694e-17  1.0041e-02  1\n",
      "      7  2.8059e-04  1.0765e-14  5.6920e-17  1.3830e-03  1\n",
      "      8  2.7077e-05  1.0680e-14  5.7174e-17  1.4751e-04  1\n",
      "      9  2.5619e-06  1.0238e-14  5.3166e-17  1.6370e-05  1\n",
      "     10  1.3271e-07  1.0034e-14  5.9159e-17  1.4900e-06  1\n",
      "\n",
      " > EXIT -- Below Tolerance!\n",
      "\n",
      "  3.674023 seconds (1.25 M allocations: 1.088 GB, 8.23% gc time)\n"
     ]
    }
   ],
   "source": [
    "function solve3x3gen(F, F⁻¹, Q, A, G)\n",
    "\n",
    "  F⁻² = F⁻¹^2\n",
    "  QpD⁻¹ = cholfact(Q + spdiagm( (F[1].diag).^(-2) ))\n",
    "\n",
    "  function solve3x3(x, z, y)\n",
    "\n",
    "    a = QpD⁻¹\\(x + A'*(F⁻²*y))\n",
    "    b = F⁻²*(y - A*a)\n",
    "    c = zeros(0,1)              # empty vector.\n",
    "    return(a, c, b)\n",
    "\n",
    "  end\n",
    "\n",
    "end\n",
    "\n",
    "@time sol = intpoint( Q , c , A , b , 𝐾 , \n",
    "    solve3x3gen = solve3x3gen; \n",
    "    verbose = true);"
   ]
  },
  {
   "cell_type": "markdown",
   "metadata": {},
   "source": [
    "This results in a 5-fold improvement in speed, and a dramatic drop in memory usage!\n",
    "\n",
    "This pattern of pivoting on the third block happens often enough that I have encapsulated it in the convenience function `pivot`, which transforms a $2x2$ solver of the system\n",
    "\n",
    "$$\n",
    "\\left(\\begin{array}{cc}\n",
    "Q+A^{T}F^{-2}F & G\\\\\n",
    "G & 0\n",
    "\\end{array}\\right)\\left(\\begin{array}{c}\n",
    "a\\\\\n",
    "b\n",
    "\\end{array}\\right)\\mapsto\\left(\\begin{array}{c}\n",
    "x\\\\\n",
    "y\n",
    "\\end{array}\\right)\n",
    "$$\n",
    "\n",
    "into a $3x3$ solver. This is illustrated below"
   ]
  },
  {
   "cell_type": "code",
   "execution_count": 4,
   "metadata": {
    "collapsed": false,
    "scrolled": true
   },
   "outputs": [
    {
     "name": "stdout",
     "output_type": "stream",
     "text": [
      "\n",
      " > INTERIOR POINT SOLVER v0.7 (July 2016)\n",
      "\n",
      "   Iter  Mu          prFeas      duFeas      muFeas      refine    \n",
      "      1  1.7952e+00  1.3283e+00  4.1735e+01  1.2551e+00  1\n",
      "      2  4.0811e-01  2.8448e-01  8.9385e+00  3.4530e-01  1\n",
      "      3  1.5700e-01  8.0023e-02  2.5144e+00  2.9434e-01  1\n",
      "      4  4.5733e-02  1.8694e-02  5.8739e-01  1.3231e-01  1\n",
      "      5  1.3577e-02  3.6356e-03  1.1423e-01  6.4463e-02  1\n",
      "      6  1.9794e-03  1.5426e-14  7.8324e-17  1.0041e-02  1\n",
      "      7  2.8059e-04  1.0992e-14  5.9428e-17  1.3830e-03  1\n",
      "      8  2.7077e-05  1.0515e-14  5.4830e-17  1.4751e-04  1\n",
      "      9  2.5619e-06  1.0239e-14  5.5022e-17  1.6370e-05  1\n",
      "     10  1.3271e-07  1.0436e-14  5.5529e-17  1.4900e-06  1\n",
      "\n",
      " > EXIT -- Below Tolerance!\n",
      "\n",
      "  1.577840 seconds (80.08 k allocations: 1.037 GB, 13.25% gc time)\n"
     ]
    }
   ],
   "source": [
    "function solve2x2gen(F, F⁻¹, Q, A, G)\n",
    "\n",
    "  QpD⁻¹ = cholfact(Q + spdiagm( (F[1].diag).^(-2) ))\n",
    "  return (y, x) -> (QpD⁻¹\\y, zeros(0,1))\n",
    "\n",
    "end\n",
    "\n",
    "@time sol = intpoint( Q , c , A , b , 𝐾 , \n",
    "    solve3x3gen = pivot(solve2x2gen); \n",
    "    verbose = true);"
   ]
  },
  {
   "cell_type": "markdown",
   "metadata": {},
   "source": [
    "And as a bonus we even get an extra boost in speed! \n",
    "___"
   ]
  }
 ],
 "metadata": {
  "kernelspec": {
   "display_name": "Julia 0.4.5",
   "language": "julia",
   "name": "julia-0.4"
  },
  "language_info": {
   "file_extension": ".jl",
   "mimetype": "application/julia",
   "name": "julia",
   "version": "0.4.5"
  }
 },
 "nbformat": 4,
 "nbformat_minor": 0
}
